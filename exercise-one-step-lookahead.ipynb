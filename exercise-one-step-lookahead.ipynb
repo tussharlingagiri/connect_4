{
 "cells": [
  {
   "cell_type": "markdown",
   "id": "e76590f5",
   "metadata": {
    "papermill": {
     "duration": 0.006573,
     "end_time": "2024-02-11T11:55:48.456049",
     "exception": false,
     "start_time": "2024-02-11T11:55:48.449476",
     "status": "completed"
    },
    "tags": []
   },
   "source": [
    "**This notebook is an exercise in the [Intro to Game AI and Reinforcement Learning](https://www.kaggle.com/learn/intro-to-game-ai-and-reinforcement-learning) course.  You can reference the tutorial at [this link](https://www.kaggle.com/alexisbcook/one-step-lookahead).**\n",
    "\n",
    "---\n"
   ]
  },
  {
   "cell_type": "markdown",
   "id": "3f5ea82a",
   "metadata": {
    "papermill": {
     "duration": 0.006145,
     "end_time": "2024-02-11T11:55:48.468678",
     "exception": false,
     "start_time": "2024-02-11T11:55:48.462533",
     "status": "completed"
    },
    "tags": []
   },
   "source": [
    "# Introduction\n",
    "\n",
    "In the tutorial, you learned how to define a simple heuristic that the agent used to select moves.  In this exercise, you'll check your understanding and make the heuristic more complex.\n",
    "\n",
    "To get started, run the code cell below to set up our feedback system."
   ]
  },
  {
   "cell_type": "code",
   "execution_count": 1,
   "id": "5c0a0dc3",
   "metadata": {
    "execution": {
     "iopub.execute_input": "2024-02-11T11:55:48.484728Z",
     "iopub.status.busy": "2024-02-11T11:55:48.483536Z",
     "iopub.status.idle": "2024-02-11T11:56:00.783145Z",
     "shell.execute_reply": "2024-02-11T11:56:00.781664Z"
    },
    "papermill": {
     "duration": 12.3111,
     "end_time": "2024-02-11T11:56:00.786286",
     "exception": false,
     "start_time": "2024-02-11T11:55:48.475186",
     "status": "completed"
    },
    "tags": []
   },
   "outputs": [
    {
     "name": "stdout",
     "output_type": "stream",
     "text": [
      "No pygame installed, ignoring import\n"
     ]
    }
   ],
   "source": [
    "from learntools.core import binder\n",
    "binder.bind(globals())\n",
    "from learntools.game_ai.ex2 import *"
   ]
  },
  {
   "cell_type": "markdown",
   "id": "33655f47",
   "metadata": {
    "papermill": {
     "duration": 0.005849,
     "end_time": "2024-02-11T11:56:00.798929",
     "exception": false,
     "start_time": "2024-02-11T11:56:00.793080",
     "status": "completed"
    },
    "tags": []
   },
   "source": [
    "### 1) A more complex heuristic\n",
    "\n",
    "The heuristic from the tutorial looks at all groups of four adjacent grid locations on the same row, column, or diagonal and assigns points for each occurrence of the following patterns:\n",
    "\n",
    "<center>\n",
    "<img src=\"https://storage.googleapis.com/kaggle-media/learn/images/vzQa4ML.png\" width=60%><br/>\n",
    "</center>\n",
    "\n",
    "In the image above, we assume that the agent is the red player, and the opponent plays yellow discs.\n",
    "\n",
    "For reference, here is the `get_heuristic()` function from the tutorial:\n",
    "```python\n",
    "def get_heuristic(grid, mark, config):\n",
    "    num_threes = count_windows(grid, 3, mark, config)\n",
    "    num_fours = count_windows(grid, 4, mark, config)\n",
    "    num_threes_opp = count_windows(grid, 3, mark%2+1, config)\n",
    "    score = num_threes - 1e2*num_threes_opp + 1e6*num_fours\n",
    "    return score\n",
    "```\n",
    "\n",
    "In the `get_heuristic()` function, `num_fours`, `num_threes`, and `num_threes_opp` are the number of windows in the game grid that are assigned 1000000, 1, and -100 point(s), respectively. \n",
    "    \n",
    "In this tutorial, you'll change the heuristic to the following (where you decide the number of points to apply in each of `A`, `B`, `C`, `D`, and `E`).  You will define these values in the code cell below.\n",
    "\n",
    "<center>\n",
    "<img src=\"https://storage.googleapis.com/kaggle-media/learn/images/FBoWr2f.png\" width=80%><br/>\n",
    "</center>\n",
    "    \n",
    "\n",
    "To check your answer, we use your values to create a heuristic function as follows:\n",
    "\n",
    "```python\n",
    "def get_heuristic_q1(grid, col, mark, config):\n",
    "    num_twos = count_windows(grid, 2, mark, config)\n",
    "    num_threes = count_windows(grid, 3, mark, config)\n",
    "    num_fours = count_windows(grid, 4, mark, config)\n",
    "    num_twos_opp = count_windows(grid, 2, mark%2+1, config)\n",
    "    num_threes_opp = count_windows(grid, 3, mark%2+1, config)\n",
    "    score = A*num_fours + B*num_threes + C*num_twos + D*num_twos_opp + E*num_threes_opp\n",
    "    return score\n",
    "```\n",
    "\n",
    "This heuristic is then used to create an agent, that competes against the agent from the tutorial in 50 different game rounds.  In order to be marked correct, \n",
    "- your agent must win at least half of the games, and\n",
    "- `C` and `D` must both be nonzero."
   ]
  },
  {
   "cell_type": "code",
   "execution_count": 2,
   "id": "a731ac1c",
   "metadata": {
    "execution": {
     "iopub.execute_input": "2024-02-11T11:56:00.813705Z",
     "iopub.status.busy": "2024-02-11T11:56:00.813077Z",
     "iopub.status.idle": "2024-02-11T11:56:23.254690Z",
     "shell.execute_reply": "2024-02-11T11:56:23.253139Z"
    },
    "papermill": {
     "duration": 22.453311,
     "end_time": "2024-02-11T11:56:23.258518",
     "exception": false,
     "start_time": "2024-02-11T11:56:00.805207",
     "status": "completed"
    },
    "tags": []
   },
   "outputs": [
    {
     "name": "stdout",
     "output_type": "stream",
     "text": [
      "Your Agent's Win Percentage (in 50 game rounds): 0.82\n",
      "Tutorial Agent's Win Percentage (in 50 game rounds): 0.18\n"
     ]
    },
    {
     "data": {
      "application/javascript": [
       "parent.postMessage({\"jupyterEvent\": \"custom.exercise_interaction\", \"data\": {\"outcomeType\": 1, \"valueTowardsCompletion\": 0.3333333333333333, \"interactionType\": 1, \"questionType\": 2, \"questionId\": \"1_BetterHeuristic\", \"learnToolsVersion\": \"0.3.4\", \"failureMessage\": \"\", \"exceptionClass\": \"\", \"trace\": \"\"}}, \"*\")"
      ],
      "text/plain": [
       "<IPython.core.display.Javascript object>"
      ]
     },
     "metadata": {},
     "output_type": "display_data"
    },
    {
     "data": {
      "text/markdown": [
       "<span style=\"color:#33cc33\">Correct</span>"
      ],
      "text/plain": [
       "Correct"
      ]
     },
     "metadata": {},
     "output_type": "display_data"
    }
   ],
   "source": [
    "# TODO: Assign your values here\n",
    "A = 1e6\n",
    "B = 5e3\n",
    "C = 1e2\n",
    "D = -5e4\n",
    "E = -1e5\n",
    "\n",
    "# Check your answer (this will take a few seconds to run!)\n",
    "q_1.check()"
   ]
  },
  {
   "cell_type": "code",
   "execution_count": 3,
   "id": "bfaf61f1",
   "metadata": {
    "execution": {
     "iopub.execute_input": "2024-02-11T11:56:23.275632Z",
     "iopub.status.busy": "2024-02-11T11:56:23.275208Z",
     "iopub.status.idle": "2024-02-11T11:56:23.283430Z",
     "shell.execute_reply": "2024-02-11T11:56:23.282510Z"
    },
    "papermill": {
     "duration": 0.021222,
     "end_time": "2024-02-11T11:56:23.286901",
     "exception": false,
     "start_time": "2024-02-11T11:56:23.265679",
     "status": "completed"
    },
    "tags": []
   },
   "outputs": [
    {
     "data": {
      "application/javascript": [
       "parent.postMessage({\"jupyterEvent\": \"custom.exercise_interaction\", \"data\": {\"interactionType\": 2, \"questionType\": 2, \"questionId\": \"1_BetterHeuristic\", \"learnToolsVersion\": \"0.3.4\", \"valueTowardsCompletion\": 0.0, \"failureMessage\": \"\", \"exceptionClass\": \"\", \"trace\": \"\", \"outcomeType\": 4}}, \"*\")"
      ],
      "text/plain": [
       "<IPython.core.display.Javascript object>"
      ]
     },
     "metadata": {},
     "output_type": "display_data"
    },
    {
     "data": {
      "text/markdown": [
       "<span style=\"color:#3366cc\">Hint:</span> Use the agent from the tutorial as a starting point     (`A = 1e6`, `B = 1`, `C = 0`, `D = 0`, `E = -1e2`)."
      ],
      "text/plain": [
       "Hint: Use the agent from the tutorial as a starting point     (`A = 1e6`, `B = 1`, `C = 0`, `D = 0`, `E = -1e2`)."
      ]
     },
     "metadata": {},
     "output_type": "display_data"
    }
   ],
   "source": [
    "# Lines below will give you a hint or solution code\n",
    "#q_1.hint()\n",
    "#q_1.solution()\n",
    "q_1.hint()"
   ]
  },
  {
   "cell_type": "markdown",
   "id": "484b42f0",
   "metadata": {
    "papermill": {
     "duration": 0.007467,
     "end_time": "2024-02-11T11:56:23.301750",
     "exception": false,
     "start_time": "2024-02-11T11:56:23.294283",
     "status": "completed"
    },
    "tags": []
   },
   "source": [
    "### 2) Does the agent win?\n",
    "\n",
    "Consider the game board below.  \n",
    "\n",
    "<center>\n",
    "<img src=\"https://storage.googleapis.com/kaggle-media/learn/images/AlnaQ3J.png\" width=30%><br/>\n",
    "</center>\n",
    "\n",
    "Say the agent uses red discs, and it's the agent's turn.  \n",
    "- If the agent uses the heuristic **_from the tutorial_**, does it win or lose the game?\n",
    "- If the agent uses the heuristic **_that you just implemented_**, does it win or lose the game?"
   ]
  },
  {
   "cell_type": "code",
   "execution_count": 4,
   "id": "cad0e5b1",
   "metadata": {
    "execution": {
     "iopub.execute_input": "2024-02-11T11:56:23.319730Z",
     "iopub.status.busy": "2024-02-11T11:56:23.319099Z",
     "iopub.status.idle": "2024-02-11T11:56:23.326443Z",
     "shell.execute_reply": "2024-02-11T11:56:23.325358Z"
    },
    "papermill": {
     "duration": 0.019388,
     "end_time": "2024-02-11T11:56:23.329731",
     "exception": false,
     "start_time": "2024-02-11T11:56:23.310343",
     "status": "completed"
    },
    "tags": []
   },
   "outputs": [
    {
     "data": {
      "application/javascript": [
       "parent.postMessage({\"jupyterEvent\": \"custom.exercise_interaction\", \"data\": {\"interactionType\": 2, \"questionType\": 4, \"questionId\": \"2_BothLose\", \"learnToolsVersion\": \"0.3.4\", \"valueTowardsCompletion\": 0.0, \"failureMessage\": \"\", \"exceptionClass\": \"\", \"trace\": \"\", \"outcomeType\": 4}}, \"*\")"
      ],
      "text/plain": [
       "<IPython.core.display.Javascript object>"
      ]
     },
     "metadata": {},
     "output_type": "display_data"
    },
    {
     "data": {
      "text/markdown": [
       "<span style=\"color:#3366cc\">Hint:</span> The agent only has two options: which column should the agent select to certainly win the game?"
      ],
      "text/plain": [
       "Hint: The agent only has two options: which column should the agent select to certainly win the game?"
      ]
     },
     "metadata": {},
     "output_type": "display_data"
    }
   ],
   "source": [
    "#q_2.hint()\n",
    "q_2.hint()\n"
   ]
  },
  {
   "cell_type": "code",
   "execution_count": 5,
   "id": "3f179352",
   "metadata": {
    "execution": {
     "iopub.execute_input": "2024-02-11T11:56:23.348196Z",
     "iopub.status.busy": "2024-02-11T11:56:23.346777Z",
     "iopub.status.idle": "2024-02-11T11:56:23.358451Z",
     "shell.execute_reply": "2024-02-11T11:56:23.357358Z"
    },
    "papermill": {
     "duration": 0.023833,
     "end_time": "2024-02-11T11:56:23.360960",
     "exception": false,
     "start_time": "2024-02-11T11:56:23.337127",
     "status": "completed"
    },
    "tags": []
   },
   "outputs": [
    {
     "data": {
      "application/javascript": [
       "parent.postMessage({\"jupyterEvent\": \"custom.exercise_interaction\", \"data\": {\"interactionType\": 3, \"questionType\": 4, \"questionId\": \"2_BothLose\", \"learnToolsVersion\": \"0.3.4\", \"valueTowardsCompletion\": 0.0, \"failureMessage\": \"\", \"exceptionClass\": \"\", \"trace\": \"\", \"outcomeType\": 4}}, \"*\")"
      ],
      "text/plain": [
       "<IPython.core.display.Javascript object>"
      ]
     },
     "metadata": {},
     "output_type": "display_data"
    },
    {
     "data": {
      "text/markdown": [
       "<span style=\"color:#33cc99\">Solution:</span> The agent has two choices: it can play in either column 0 (the leftmost column), or column 6 (the rightmost column). If the agent plays in column 0, it definitely wins the game in its next move.  And, if it plays in column 6, it likely loses the game (since, if the opponent responds by playing in the same column, then the opponent wins the game). \n",
       "\n",
       "If the agent uses the heuristic **from the tutorial**, both columns are scored equally, and so the agent will select from them (uniformly) at random.  In this case, the agent has about a 50/50 chance of winning the game. \n",
       "\n",
       "As for the heuristic **that** **you just implemented**, this will depend on your implementation, so we'll provide an answer for the solution heuristic that we provided -- in this case, the agent most likely loses the game, since it will definitely select the final column. \n",
       "\n",
       "This is an interesting situation, because on average, we see that the agent with the new heuristic performs better than the agent from the tutorial (and yet, for this board, it's guaranteed to make the wrong decision)."
      ],
      "text/plain": [
       "Solution: The agent has two choices: it can play in either column 0 (the leftmost column), or column 6 (the rightmost column). If the agent plays in column 0, it definitely wins the game in its next move.  And, if it plays in column 6, it likely loses the game (since, if the opponent responds by playing in the same column, then the opponent wins the game). \n",
       "\n",
       "If the agent uses the heuristic **from the tutorial**, both columns are scored equally, and so the agent will select from them (uniformly) at random.  In this case, the agent has about a 50/50 chance of winning the game. \n",
       "\n",
       "As for the heuristic **that** **you just implemented**, this will depend on your implementation, so we'll provide an answer for the solution heuristic that we provided -- in this case, the agent most likely loses the game, since it will definitely select the final column. \n",
       "\n",
       "This is an interesting situation, because on average, we see that the agent with the new heuristic performs better than the agent from the tutorial (and yet, for this board, it's guaranteed to make the wrong decision)."
      ]
     },
     "metadata": {},
     "output_type": "display_data"
    }
   ],
   "source": [
    "# Check your answer (Run this code cell to receive credit!)\n",
    "q_2.solution()"
   ]
  },
  {
   "cell_type": "markdown",
   "id": "f40210bf",
   "metadata": {
    "papermill": {
     "duration": 0.006939,
     "end_time": "2024-02-11T11:56:23.375518",
     "exception": false,
     "start_time": "2024-02-11T11:56:23.368579",
     "status": "completed"
    },
    "tags": []
   },
   "source": [
    "### 3) Submit to the competition\n",
    "\n",
    "Now, it's time to submit an agent to the competition!  Use the next code cell to define an agent.  (You can see an example of how to write a valid agent in **[this notebook](https://www.kaggle.com/alexisbcook/create-a-connectx-agent)**.)\n",
    "\n",
    "You're encouraged to use what you learned in the first question of this exercise to write an agent.  Use the code from the tutorial as a starting point. "
   ]
  },
  {
   "cell_type": "code",
   "execution_count": 6,
   "id": "f58b7d45",
   "metadata": {
    "execution": {
     "iopub.execute_input": "2024-02-11T11:56:23.392516Z",
     "iopub.status.busy": "2024-02-11T11:56:23.391502Z",
     "iopub.status.idle": "2024-02-11T11:56:23.413513Z",
     "shell.execute_reply": "2024-02-11T11:56:23.412153Z"
    },
    "papermill": {
     "duration": 0.033752,
     "end_time": "2024-02-11T11:56:23.416492",
     "exception": false,
     "start_time": "2024-02-11T11:56:23.382740",
     "status": "completed"
    },
    "tags": []
   },
   "outputs": [],
   "source": [
    "def my_agent(obs, config):\n",
    "    # Your code here: Amend the agent!\n",
    "    import numpy as np\n",
    "\n",
    "   \n",
    "    def get_grid(board):\n",
    "        return np.array(board).reshape(config.rows, config.columns)\n",
    "\n",
    "   \n",
    "    def count_windows(grid, window_length, piece, config):\n",
    "        num_windows = 0\n",
    "        \n",
    "        for row in range(config.rows):\n",
    "            for col in range(config.columns - (window_length - 1)):\n",
    "                if all(grid[row, col + i] == piece for i in range(window_length)):\n",
    "                    num_windows += 1\n",
    " \n",
    "        for row in range(config.rows - (window_length - 1)):\n",
    "            for col in range(config.columns):\n",
    "                if all(grid[row + i, col] == piece for i in range(window_length)):\n",
    "                    num_windows += 1\n",
    "       \n",
    "        for row in range(config.rows - (window_length - 1)):\n",
    "            for col in range(config.columns - (window_length - 1)):\n",
    "                if all(grid[row + i, col + i] == piece for i in range(window_length)):\n",
    "                    num_windows += 1\n",
    "\n",
    "        for row in range(window_length - 1, config.rows):\n",
    "            for col in range(config.columns - (window_length - 1)):\n",
    "                if all(grid[row - i, col + i] == piece for i in range(window_length)):\n",
    "                    num_windows += 1\n",
    "        return num_windows\n",
    "\n",
    "    \n",
    "    def evaluate_grid(grid, mark, config):\n",
    "        A, B, C, D, E = 1e6, 5e3, 1e2, -5e4, -1e5\n",
    "        num_fours = count_windows(grid, 4, mark, config)\n",
    "        num_threes = count_windows(grid, 3, mark, config)\n",
    "        num_twos = count_windows(grid, 2, mark, config)\n",
    "        num_twos_opp = count_windows(grid, 2, mark%2+1, config)\n",
    "        num_threes_opp = count_windows(grid, 3, mark%2+1, config)\n",
    "        score = A*num_fours + B*num_threes + C*num_twos + D*num_twos_opp + E*num_threes_opp\n",
    "        return score\n",
    "\n",
    "   \n",
    "    valid_moves = [col for col in range(config.columns) if obs.board[col] == 0]\n",
    "    best_score = float('-inf')\n",
    "    best_move = valid_moves[0]\n",
    "    for col in valid_moves:\n",
    "        \n",
    "        temp_grid = get_grid(obs.board[:])\n",
    "        temp_grid[obs.board.index(0, col*config.rows)] = obs.mark\n",
    "     \n",
    "        score = evaluate_grid(temp_grid, obs.mark, config)\n",
    "        if score > best_score:\n",
    "            best_score = score\n",
    "            best_move = col\n",
    "    return best_move\n",
    "    import random\n",
    "    valid_moves = [col for col in range(config.columns) if obs.board[col] == 0]\n",
    "    return random.choice(valid_moves)"
   ]
  },
  {
   "cell_type": "code",
   "execution_count": 7,
   "id": "564a09b9",
   "metadata": {
    "execution": {
     "iopub.execute_input": "2024-02-11T11:56:23.433792Z",
     "iopub.status.busy": "2024-02-11T11:56:23.433144Z",
     "iopub.status.idle": "2024-02-11T11:56:23.444917Z",
     "shell.execute_reply": "2024-02-11T11:56:23.443311Z"
    },
    "papermill": {
     "duration": 0.023643,
     "end_time": "2024-02-11T11:56:23.447587",
     "exception": false,
     "start_time": "2024-02-11T11:56:23.423944",
     "status": "completed"
    },
    "tags": []
   },
   "outputs": [
    {
     "data": {
      "application/javascript": [
       "parent.postMessage({\"jupyterEvent\": \"custom.exercise_interaction\", \"data\": {\"outcomeType\": 1, \"valueTowardsCompletion\": 0.3333333333333333, \"interactionType\": 1, \"questionType\": 2, \"questionId\": \"3_CreateAgentEx2\", \"learnToolsVersion\": \"0.3.4\", \"failureMessage\": \"\", \"exceptionClass\": \"\", \"trace\": \"\"}}, \"*\")"
      ],
      "text/plain": [
       "<IPython.core.display.Javascript object>"
      ]
     },
     "metadata": {},
     "output_type": "display_data"
    },
    {
     "data": {
      "text/markdown": [
       "<span style=\"color:#33cc33\">Thank you for creating an agent!</span>"
      ],
      "text/plain": [
       "Thank you for creating an agent!"
      ]
     },
     "metadata": {},
     "output_type": "display_data"
    }
   ],
   "source": [
    "# Run this code cell to get credit for creating an agent\n",
    "q_3.check()"
   ]
  },
  {
   "cell_type": "markdown",
   "id": "5f19e8d6",
   "metadata": {
    "papermill": {
     "duration": 0.007388,
     "end_time": "2024-02-11T11:56:23.462466",
     "exception": false,
     "start_time": "2024-02-11T11:56:23.455078",
     "status": "completed"
    },
    "tags": []
   },
   "source": [
    "Run the next code cell to convert your agent to a submission file."
   ]
  },
  {
   "cell_type": "code",
   "execution_count": 8,
   "id": "de4e3d32",
   "metadata": {
    "execution": {
     "iopub.execute_input": "2024-02-11T11:56:23.479388Z",
     "iopub.status.busy": "2024-02-11T11:56:23.478943Z",
     "iopub.status.idle": "2024-02-11T11:56:23.493769Z",
     "shell.execute_reply": "2024-02-11T11:56:23.492083Z"
    },
    "papermill": {
     "duration": 0.026642,
     "end_time": "2024-02-11T11:56:23.496623",
     "exception": false,
     "start_time": "2024-02-11T11:56:23.469981",
     "status": "completed"
    },
    "tags": []
   },
   "outputs": [
    {
     "name": "stdout",
     "output_type": "stream",
     "text": [
      "<function my_agent at 0x7d95c3932d40> written to submission.py\n"
     ]
    }
   ],
   "source": [
    "import inspect\n",
    "import os\n",
    "\n",
    "def write_agent_to_file(function, file):\n",
    "    with open(file, \"a\" if os.path.exists(file) else \"w\") as f:\n",
    "        f.write(inspect.getsource(function))\n",
    "        print(function, \"written to\", file)\n",
    "\n",
    "write_agent_to_file(my_agent, \"submission.py\")"
   ]
  },
  {
   "cell_type": "markdown",
   "id": "6655d9a2",
   "metadata": {
    "papermill": {
     "duration": 0.00723,
     "end_time": "2024-02-11T11:56:23.511521",
     "exception": false,
     "start_time": "2024-02-11T11:56:23.504291",
     "status": "completed"
    },
    "tags": []
   },
   "source": [
    "Then, follow these steps to submit your agent to the competition:\n",
    "1. Begin by clicking on the **Save Version** button in the top right corner of the window.  This will generate a pop-up window.  \n",
    "2. Ensure that the **Save and Run All** option is selected, and then click on the **Save** button.\n",
    "3. This generates a window in the bottom left corner of the notebook.  After it has finished running, click on the number to the right of the **Save Version** button.  This pulls up a list of versions on the right of the screen.  Click on the ellipsis **(...)** to the right of the most recent version, and select **Open in Viewer**.  This brings you into view mode of the same page. You will need to scroll down to get back to these instructions.\n",
    "4. Click on the **Data** tab near the top of the screen.  Then, click on the file you would like to submit, and click on the **Submit** button to submit your results to the leaderboard.\n",
    "\n",
    "You have now successfully submitted to the competition!\n",
    "\n",
    "If you want to keep working to improve your performance, select the **Edit** button in the top right of the screen. Then you can change your code and repeat the process. There's a lot of room to improve, and you will climb up the leaderboard as you work.\n",
    "\n",
    "\n",
    "Go to **\"My Submissions\"** to view your score and episodes being played.\n",
    "\n",
    "# Keep going\n",
    "\n",
    "Move on to **[develop a longer-term strategy](https://www.kaggle.com/alexisbcook/n-step-lookahead)** with the minimax algorithm."
   ]
  },
  {
   "cell_type": "markdown",
   "id": "d48f013d",
   "metadata": {
    "papermill": {
     "duration": 0.008235,
     "end_time": "2024-02-11T11:56:23.527212",
     "exception": false,
     "start_time": "2024-02-11T11:56:23.518977",
     "status": "completed"
    },
    "tags": []
   },
   "source": [
    "---\n",
    "\n",
    "\n",
    "\n",
    "\n",
    "*Have questions or comments? Visit the [course discussion forum](https://www.kaggle.com/learn/intro-to-game-ai-and-reinforcement-learning/discussion) to chat with other learners.*"
   ]
  }
 ],
 "metadata": {
  "kaggle": {
   "accelerator": "none",
   "dataSources": [
    {
     "databundleVersionId": 899221,
     "sourceId": 17592,
     "sourceType": "competition"
    }
   ],
   "isGpuEnabled": false,
   "isInternetEnabled": false,
   "language": "python",
   "sourceType": "notebook"
  },
  "kernelspec": {
   "display_name": "Python 3",
   "language": "python",
   "name": "python3"
  },
  "language_info": {
   "codemirror_mode": {
    "name": "ipython",
    "version": 3
   },
   "file_extension": ".py",
   "mimetype": "text/x-python",
   "name": "python",
   "nbconvert_exporter": "python",
   "pygments_lexer": "ipython3",
   "version": "3.10.13"
  },
  "papermill": {
   "default_parameters": {},
   "duration": 40.17049,
   "end_time": "2024-02-11T11:56:25.162599",
   "environment_variables": {},
   "exception": null,
   "input_path": "__notebook__.ipynb",
   "output_path": "__notebook__.ipynb",
   "parameters": {},
   "start_time": "2024-02-11T11:55:44.992109",
   "version": "2.5.0"
  }
 },
 "nbformat": 4,
 "nbformat_minor": 5
}
