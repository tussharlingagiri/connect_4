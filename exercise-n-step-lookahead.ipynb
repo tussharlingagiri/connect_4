{
 "cells": [
  {
   "cell_type": "markdown",
   "id": "ea20d4ce",
   "metadata": {
    "papermill": {
     "duration": 0.00503,
     "end_time": "2024-02-11T13:33:47.455477",
     "exception": false,
     "start_time": "2024-02-11T13:33:47.450447",
     "status": "completed"
    },
    "tags": []
   },
   "source": [
    "**This notebook is an exercise in the [Intro to Game AI and Reinforcement Learning](https://www.kaggle.com/learn/intro-to-game-ai-and-reinforcement-learning) course.  You can reference the tutorial at [this link](https://www.kaggle.com/alexisbcook/n-step-lookahead).**\n",
    "\n",
    "---\n"
   ]
  },
  {
   "cell_type": "markdown",
   "id": "d7473d00",
   "metadata": {
    "papermill": {
     "duration": 0.004031,
     "end_time": "2024-02-11T13:33:47.464274",
     "exception": false,
     "start_time": "2024-02-11T13:33:47.460243",
     "status": "completed"
    },
    "tags": []
   },
   "source": [
    "# Introduction\n",
    "\n",
    "In the tutorial, you learned how to build a reasonably intelligent agent with the minimax algorithm.  In this exercise, you will check your understanding and submit your own agent to the competition."
   ]
  },
  {
   "cell_type": "code",
   "execution_count": 1,
   "id": "e6923d37",
   "metadata": {
    "execution": {
     "iopub.execute_input": "2024-02-11T13:33:47.474701Z",
     "iopub.status.busy": "2024-02-11T13:33:47.474304Z",
     "iopub.status.idle": "2024-02-11T13:33:48.481365Z",
     "shell.execute_reply": "2024-02-11T13:33:48.480046Z"
    },
    "papermill": {
     "duration": 1.015238,
     "end_time": "2024-02-11T13:33:48.483818",
     "exception": false,
     "start_time": "2024-02-11T13:33:47.468580",
     "status": "completed"
    },
    "tags": []
   },
   "outputs": [],
   "source": [
    "from learntools.core import binder\n",
    "binder.bind(globals())\n",
    "from learntools.game_ai.ex3 import *"
   ]
  },
  {
   "cell_type": "markdown",
   "id": "1250999b",
   "metadata": {
    "papermill": {
     "duration": 0.004116,
     "end_time": "2024-02-11T13:33:48.493503",
     "exception": false,
     "start_time": "2024-02-11T13:33:48.489387",
     "status": "completed"
    },
    "tags": []
   },
   "source": [
    "### 1) A closer look\n",
    "\n",
    "The heuristic from the tutorial looks at all groups of four adjacent grid locations on the same row, column, or diagonal and assigns points for each occurrence of the following patterns:\n",
    "\n",
    "<center>\n",
    "<img src=\"https://storage.googleapis.com/kaggle-media/learn/images/3NvBEGL.png\" width=70%><br/>\n",
    "</center>\n",
    "\n",
    "Is it really necessary to use so many numbers to define the heuristic?  Consider simplifying it, as in the image below.\n",
    "\n",
    "<center>\n",
    "<img src=\"https://storage.googleapis.com/kaggle-media/learn/images/grViegG.png\" width=70%><br/>\n",
    "</center>\n",
    "\n",
    "How would each heuristic score the potential moves in the example below (where, in this case, the agent looks only one step ahead)?  Which heuristic would lead to the agent selecting the better move?\n",
    "\n",
    "<center>\n",
    "<img src=\"https://storage.googleapis.com/kaggle-media/learn/images/LWPLy7N.png\" width=100%><br/>\n",
    "</center>"
   ]
  },
  {
   "cell_type": "code",
   "execution_count": 2,
   "id": "123a3037",
   "metadata": {
    "execution": {
     "iopub.execute_input": "2024-02-11T13:33:48.504263Z",
     "iopub.status.busy": "2024-02-11T13:33:48.503746Z",
     "iopub.status.idle": "2024-02-11T13:33:48.513336Z",
     "shell.execute_reply": "2024-02-11T13:33:48.512392Z"
    },
    "papermill": {
     "duration": 0.017224,
     "end_time": "2024-02-11T13:33:48.515284",
     "exception": false,
     "start_time": "2024-02-11T13:33:48.498060",
     "status": "completed"
    },
    "tags": []
   },
   "outputs": [
    {
     "data": {
      "application/javascript": [
       "parent.postMessage({\"jupyterEvent\": \"custom.exercise_interaction\", \"data\": {\"interactionType\": 2, \"questionType\": 4, \"questionId\": \"1_WorseHeuristic\", \"learnToolsVersion\": \"0.3.4\", \"valueTowardsCompletion\": 0.0, \"failureMessage\": \"\", \"exceptionClass\": \"\", \"trace\": \"\", \"outcomeType\": 4}}, \"*\")"
      ],
      "text/plain": [
       "<IPython.core.display.Javascript object>"
      ]
     },
     "metadata": {},
     "output_type": "display_data"
    },
    {
     "data": {
      "text/markdown": [
       "<span style=\"color:#3366cc\">Hint:</span> The first heuristic assigns a score of 0 to column 2, and a score of -99 to column 3.  What scores do you get with the second heuristic?"
      ],
      "text/plain": [
       "Hint: The first heuristic assigns a score of 0 to column 2, and a score of -99 to column 3.  What scores do you get with the second heuristic?"
      ]
     },
     "metadata": {},
     "output_type": "display_data"
    }
   ],
   "source": [
    "#q_1.hint()\n",
    "\n",
    "q_1.hint()"
   ]
  },
  {
   "cell_type": "code",
   "execution_count": 3,
   "id": "6dae5357",
   "metadata": {
    "execution": {
     "iopub.execute_input": "2024-02-11T13:33:48.526690Z",
     "iopub.status.busy": "2024-02-11T13:33:48.526029Z",
     "iopub.status.idle": "2024-02-11T13:33:48.533465Z",
     "shell.execute_reply": "2024-02-11T13:33:48.532622Z"
    },
    "papermill": {
     "duration": 0.015137,
     "end_time": "2024-02-11T13:33:48.535132",
     "exception": false,
     "start_time": "2024-02-11T13:33:48.519995",
     "status": "completed"
    },
    "tags": []
   },
   "outputs": [
    {
     "data": {
      "application/javascript": [
       "parent.postMessage({\"jupyterEvent\": \"custom.exercise_interaction\", \"data\": {\"interactionType\": 3, \"questionType\": 4, \"questionId\": \"1_WorseHeuristic\", \"learnToolsVersion\": \"0.3.4\", \"valueTowardsCompletion\": 0.0, \"failureMessage\": \"\", \"exceptionClass\": \"\", \"trace\": \"\", \"outcomeType\": 4}}, \"*\")"
      ],
      "text/plain": [
       "<IPython.core.display.Javascript object>"
      ]
     },
     "metadata": {},
     "output_type": "display_data"
    },
    {
     "data": {
      "text/markdown": [
       "<span style=\"color:#33cc99\">Solution:</span> The first heuristic is guaranteed to select column 2 to block the opponent from winning.  The second heuristic selects either column 2 or column 3 (where it selects each with 50% probability). Thus, for this game board, the first heuristic is better. In general, we can expect that the first heuristic is a better heuristic, since we cannot trust the second heuristic to block the opponent from winning."
      ],
      "text/plain": [
       "Solution: The first heuristic is guaranteed to select column 2 to block the opponent from winning.  The second heuristic selects either column 2 or column 3 (where it selects each with 50% probability). Thus, for this game board, the first heuristic is better. In general, we can expect that the first heuristic is a better heuristic, since we cannot trust the second heuristic to block the opponent from winning."
      ]
     },
     "metadata": {},
     "output_type": "display_data"
    }
   ],
   "source": [
    "# Check your answer (Run this code cell to receive credit!)\n",
    "q_1.solution()"
   ]
  },
  {
   "cell_type": "markdown",
   "id": "8a24135b",
   "metadata": {
    "papermill": {
     "duration": 0.004457,
     "end_time": "2024-02-11T13:33:48.544726",
     "exception": false,
     "start_time": "2024-02-11T13:33:48.540269",
     "status": "completed"
    },
    "tags": []
   },
   "source": [
    "### 2) Count the leaves\n",
    "\n",
    "In the tutorial, we worked with a small game tree.\n",
    "\n",
    "<center>\n",
    "<img src=\"https://storage.googleapis.com/kaggle-media/learn/images/BrRe7Bu.png\" width=90%><br/>\n",
    "</center>\n",
    "\n",
    "The game tree above has 8 leaf nodes that appear at the bottom of the tree.  By definition, \"leaf nodes\" in a game tree are nodes that don't have nodes below them.\n",
    "\n",
    "In the ConnectX competition, the game trees will be much larger!  \n",
    "\n",
    "To see this, consider a minimax agent that is trying to plan its first move, where all columns in the game board are  empty.  Say the agent builds a game tree of depth 3.  How many leaf nodes are in the game tree?  \n",
    "\n",
    "Use your answer to fill in the blank below."
   ]
  },
  {
   "cell_type": "code",
   "execution_count": 4,
   "id": "8bbd0bc7",
   "metadata": {
    "execution": {
     "iopub.execute_input": "2024-02-11T13:33:48.556413Z",
     "iopub.status.busy": "2024-02-11T13:33:48.555981Z",
     "iopub.status.idle": "2024-02-11T13:33:48.563008Z",
     "shell.execute_reply": "2024-02-11T13:33:48.562116Z"
    },
    "papermill": {
     "duration": 0.015308,
     "end_time": "2024-02-11T13:33:48.564865",
     "exception": false,
     "start_time": "2024-02-11T13:33:48.549557",
     "status": "completed"
    },
    "tags": []
   },
   "outputs": [
    {
     "data": {
      "application/javascript": [
       "parent.postMessage({\"jupyterEvent\": \"custom.exercise_interaction\", \"data\": {\"outcomeType\": 1, \"valueTowardsCompletion\": 0.2, \"interactionType\": 1, \"questionType\": 1, \"questionId\": \"2_NumLeaves\", \"learnToolsVersion\": \"0.3.4\", \"failureMessage\": \"\", \"exceptionClass\": \"\", \"trace\": \"\"}}, \"*\")"
      ],
      "text/plain": [
       "<IPython.core.display.Javascript object>"
      ]
     },
     "metadata": {},
     "output_type": "display_data"
    },
    {
     "data": {
      "text/markdown": [
       "<span style=\"color:#33cc33\">Correct</span>"
      ],
      "text/plain": [
       "Correct"
      ]
     },
     "metadata": {},
     "output_type": "display_data"
    }
   ],
   "source": [
    "# Fill in the blank\n",
    "num_leaves = 7*7*7\n",
    "\n",
    "# Check your answer\n",
    "q_2.check()"
   ]
  },
  {
   "cell_type": "code",
   "execution_count": 5,
   "id": "3d68a902",
   "metadata": {
    "execution": {
     "iopub.execute_input": "2024-02-11T13:33:48.576737Z",
     "iopub.status.busy": "2024-02-11T13:33:48.576416Z",
     "iopub.status.idle": "2024-02-11T13:33:48.585622Z",
     "shell.execute_reply": "2024-02-11T13:33:48.584184Z"
    },
    "papermill": {
     "duration": 0.018164,
     "end_time": "2024-02-11T13:33:48.588183",
     "exception": false,
     "start_time": "2024-02-11T13:33:48.570019",
     "status": "completed"
    },
    "tags": []
   },
   "outputs": [
    {
     "data": {
      "application/javascript": [
       "parent.postMessage({\"jupyterEvent\": \"custom.exercise_interaction\", \"data\": {\"interactionType\": 2, \"questionType\": 1, \"questionId\": \"2_NumLeaves\", \"learnToolsVersion\": \"0.3.4\", \"valueTowardsCompletion\": 0.0, \"failureMessage\": \"\", \"exceptionClass\": \"\", \"trace\": \"\", \"outcomeType\": 4}}, \"*\")"
      ],
      "text/plain": [
       "<IPython.core.display.Javascript object>"
      ]
     },
     "metadata": {},
     "output_type": "display_data"
    },
    {
     "data": {
      "text/markdown": [
       "<span style=\"color:#3366cc\">Hint:</span> Try drawing the game tree.  How many moves (columns) are possible at each turn?"
      ],
      "text/plain": [
       "Hint: Try drawing the game tree.  How many moves (columns) are possible at each turn?"
      ]
     },
     "metadata": {},
     "output_type": "display_data"
    }
   ],
   "source": [
    "# Lines below will give you a hint or solution code\n",
    "#q_2.hint()\n",
    "#q_2.solution()\n",
    "q_2.hint()"
   ]
  },
  {
   "cell_type": "markdown",
   "id": "33d762af",
   "metadata": {
    "papermill": {
     "duration": 0.004956,
     "end_time": "2024-02-11T13:33:48.598632",
     "exception": false,
     "start_time": "2024-02-11T13:33:48.593676",
     "status": "completed"
    },
    "tags": []
   },
   "source": [
    "### 3) Which move will the agent select?\n",
    "\n",
    "In this question, you'll check your understanding of the minimax algorithm.  Remember that with this algorithm, \n",
    "> The agent chooses moves to get a score that is as high as possible, and it assumes the opponent will counteract this by choosing moves to force the score to be as low as possible.\n",
    "\n",
    "Consider the toy example below of a game tree that the agent will use to select its next move.  \n",
    "<center>\n",
    "<img src=\"https://storage.googleapis.com/kaggle-media/learn/images/QlfWGM9.png\" width=80%><br/>\n",
    "</center>\n",
    "\n",
    "Which move will the agent select?  Use your answer to set the value of the `selected_move` variable below.  Your answer should be one of `1`, `2`, or `3`."
   ]
  },
  {
   "cell_type": "code",
   "execution_count": 6,
   "id": "e6bd6206",
   "metadata": {
    "execution": {
     "iopub.execute_input": "2024-02-11T13:33:48.611107Z",
     "iopub.status.busy": "2024-02-11T13:33:48.610604Z",
     "iopub.status.idle": "2024-02-11T13:33:48.618920Z",
     "shell.execute_reply": "2024-02-11T13:33:48.617332Z"
    },
    "papermill": {
     "duration": 0.0168,
     "end_time": "2024-02-11T13:33:48.620864",
     "exception": false,
     "start_time": "2024-02-11T13:33:48.604064",
     "status": "completed"
    },
    "tags": []
   },
   "outputs": [
    {
     "data": {
      "application/javascript": [
       "parent.postMessage({\"jupyterEvent\": \"custom.exercise_interaction\", \"data\": {\"outcomeType\": 1, \"valueTowardsCompletion\": 0.2, \"interactionType\": 1, \"questionType\": 2, \"questionId\": \"3_WhichMove\", \"learnToolsVersion\": \"0.3.4\", \"failureMessage\": \"\", \"exceptionClass\": \"\", \"trace\": \"\"}}, \"*\")"
      ],
      "text/plain": [
       "<IPython.core.display.Javascript object>"
      ]
     },
     "metadata": {},
     "output_type": "display_data"
    },
    {
     "data": {
      "text/markdown": [
       "<span style=\"color:#33cc33\">Correct</span>"
      ],
      "text/plain": [
       "Correct"
      ]
     },
     "metadata": {},
     "output_type": "display_data"
    }
   ],
   "source": [
    "# Fill in the blank\n",
    "selected_move = 3\n",
    "\n",
    "# Check your answer\n",
    "q_3.check()"
   ]
  },
  {
   "cell_type": "code",
   "execution_count": 7,
   "id": "6c748cb0",
   "metadata": {
    "execution": {
     "iopub.execute_input": "2024-02-11T13:33:48.634945Z",
     "iopub.status.busy": "2024-02-11T13:33:48.634615Z",
     "iopub.status.idle": "2024-02-11T13:33:48.641022Z",
     "shell.execute_reply": "2024-02-11T13:33:48.640236Z"
    },
    "papermill": {
     "duration": 0.01572,
     "end_time": "2024-02-11T13:33:48.642901",
     "exception": false,
     "start_time": "2024-02-11T13:33:48.627181",
     "status": "completed"
    },
    "tags": []
   },
   "outputs": [
    {
     "data": {
      "application/javascript": [
       "parent.postMessage({\"jupyterEvent\": \"custom.exercise_interaction\", \"data\": {\"interactionType\": 2, \"questionType\": 2, \"questionId\": \"3_WhichMove\", \"learnToolsVersion\": \"0.3.4\", \"valueTowardsCompletion\": 0.0, \"failureMessage\": \"\", \"exceptionClass\": \"\", \"trace\": \"\", \"outcomeType\": 4}}, \"*\")"
      ],
      "text/plain": [
       "<IPython.core.display.Javascript object>"
      ]
     },
     "metadata": {},
     "output_type": "display_data"
    },
    {
     "data": {
      "text/markdown": [
       "<span style=\"color:#3366cc\">Hint:</span> For each potential move, how will the opponent respond?"
      ],
      "text/plain": [
       "Hint: For each potential move, how will the opponent respond?"
      ]
     },
     "metadata": {},
     "output_type": "display_data"
    }
   ],
   "source": [
    "# Lines below will give you a hint or solution code\n",
    "#q_3.hint()\n",
    "#q_3.solution()\n",
    "q_3.hint()\n"
   ]
  },
  {
   "cell_type": "markdown",
   "id": "eb5609c3",
   "metadata": {
    "papermill": {
     "duration": 0.00555,
     "end_time": "2024-02-11T13:33:48.655384",
     "exception": false,
     "start_time": "2024-02-11T13:33:48.649834",
     "status": "completed"
    },
    "tags": []
   },
   "source": [
    "### 4) Examine the assumptions\n",
    "\n",
    "The minimax agent assumes that its opponent plays optimally (with respect to the heuristic, and using a game tree of limited depth).  But this is almost never the case, in practice: it's far more likely for the agent to encounter a suboptimal (that is: worse than optimal) opponent.  \n",
    "\n",
    "Say the minimax agent encounters a suboptimal opponent. Should we expect the minimax agent to still play the game well, despite the contradiction with its assumptions?  If so, why?"
   ]
  },
  {
   "cell_type": "code",
   "execution_count": 8,
   "id": "f044c5d0",
   "metadata": {
    "execution": {
     "iopub.execute_input": "2024-02-11T13:33:48.668746Z",
     "iopub.status.busy": "2024-02-11T13:33:48.668410Z",
     "iopub.status.idle": "2024-02-11T13:33:48.672493Z",
     "shell.execute_reply": "2024-02-11T13:33:48.671548Z"
    },
    "papermill": {
     "duration": 0.013151,
     "end_time": "2024-02-11T13:33:48.674303",
     "exception": false,
     "start_time": "2024-02-11T13:33:48.661152",
     "status": "completed"
    },
    "tags": []
   },
   "outputs": [],
   "source": [
    "#q_4.hint()"
   ]
  },
  {
   "cell_type": "code",
   "execution_count": 9,
   "id": "48526636",
   "metadata": {
    "execution": {
     "iopub.execute_input": "2024-02-11T13:33:48.688892Z",
     "iopub.status.busy": "2024-02-11T13:33:48.688177Z",
     "iopub.status.idle": "2024-02-11T13:33:48.696713Z",
     "shell.execute_reply": "2024-02-11T13:33:48.695398Z"
    },
    "papermill": {
     "duration": 0.018851,
     "end_time": "2024-02-11T13:33:48.699397",
     "exception": false,
     "start_time": "2024-02-11T13:33:48.680546",
     "status": "completed"
    },
    "tags": []
   },
   "outputs": [
    {
     "data": {
      "application/javascript": [
       "parent.postMessage({\"jupyterEvent\": \"custom.exercise_interaction\", \"data\": {\"interactionType\": 3, \"questionType\": 4, \"questionId\": \"4_Assumptions\", \"learnToolsVersion\": \"0.3.4\", \"valueTowardsCompletion\": 0.0, \"failureMessage\": \"\", \"exceptionClass\": \"\", \"trace\": \"\", \"outcomeType\": 4}}, \"*\")"
      ],
      "text/plain": [
       "<IPython.core.display.Javascript object>"
      ]
     },
     "metadata": {},
     "output_type": "display_data"
    },
    {
     "data": {
      "text/markdown": [
       "<span style=\"color:#33cc99\">Solution:</span> We can still expect the minimax agent to perform well. On a high level, assuming an optimal opponent simply overestimates the opponent, but does not break the algorithm.  The effect of overestimating the opponent is merely that the minimax agent will take longer to win, than if it had a more accurate understanding of its opponent.  For instance, the minimax agent is highly unlikely to select the same column three times in its first three moves (since it assumes an optimal opponent that will certainly block the winning play in the next move), but this is not a bad initial strategy for playing against an agent that selects columns completely at random."
      ],
      "text/plain": [
       "Solution: We can still expect the minimax agent to perform well. On a high level, assuming an optimal opponent simply overestimates the opponent, but does not break the algorithm.  The effect of overestimating the opponent is merely that the minimax agent will take longer to win, than if it had a more accurate understanding of its opponent.  For instance, the minimax agent is highly unlikely to select the same column three times in its first three moves (since it assumes an optimal opponent that will certainly block the winning play in the next move), but this is not a bad initial strategy for playing against an agent that selects columns completely at random."
      ]
     },
     "metadata": {},
     "output_type": "display_data"
    }
   ],
   "source": [
    "# Check your answer (Run this code cell to receive credit!)\n",
    "q_4.solution()"
   ]
  },
  {
   "cell_type": "markdown",
   "id": "8fe9a1f0",
   "metadata": {
    "papermill": {
     "duration": 0.005742,
     "end_time": "2024-02-11T13:33:48.711681",
     "exception": false,
     "start_time": "2024-02-11T13:33:48.705939",
     "status": "completed"
    },
    "tags": []
   },
   "source": [
    "### 5) Submit to the competition\n",
    "\n",
    "Now, it's time to submit an agent to the competition!  Use the next code cell to define an agent.  (You can see an example of how to write a valid agent in **[this notebook](https://www.kaggle.com/alexisbcook/create-a-connectx-agent)**.)\n",
    "\n",
    "If you decide to use the minimax code from the tutorial, you might like to add [**alpha-beta pruning**](https://en.wikipedia.org/wiki/Alpha%E2%80%93beta_pruning) to decrease the computation time (i.e., get the minimax algorithm to run much faster!).  In this case, \"alpha\" and \"beta\" to refer to two values that are maintained while the algorithm is running, that help to identify early stopping conditions.  \n",
    "\n",
    "Without alpha-beta pruning, minimax evaluates each leaf node.  With alpha-beta pruning, minimax only evaluates nodes that could provide information that affects the agent's choice of action.  Put another way, it identifies nodes that could not possibly affect the final result and avoids evaluating them."
   ]
  },
  {
   "cell_type": "code",
   "execution_count": 10,
   "id": "be3f0d79",
   "metadata": {
    "execution": {
     "iopub.execute_input": "2024-02-11T13:33:48.725130Z",
     "iopub.status.busy": "2024-02-11T13:33:48.724787Z",
     "iopub.status.idle": "2024-02-11T13:33:48.745560Z",
     "shell.execute_reply": "2024-02-11T13:33:48.744124Z"
    },
    "papermill": {
     "duration": 0.030628,
     "end_time": "2024-02-11T13:33:48.748159",
     "exception": false,
     "start_time": "2024-02-11T13:33:48.717531",
     "status": "completed"
    },
    "tags": []
   },
   "outputs": [],
   "source": [
    "def my_agent(obs, config):\n",
    "    # Your code here: Amend the agent!\n",
    "    def my_agent(obs, config):\n",
    "        import numpy as np\n",
    "\n",
    "    def is_terminal_node(board):\n",
    "        # Check for win or full board\n",
    "        return False  # Simplified for illustration\n",
    "\n",
    "    def get_valid_moves(board):\n",
    "        return [c for c in range(config.columns) if board[c] == 0]\n",
    "\n",
    "    def apply_move(board, column, mark, config):\n",
    "        next_board = board.copy()\n",
    "        for row in range(config.rows-1, -1, -1):\n",
    "            if next_board[row][column] == 0:\n",
    "                next_board[row][column] = mark\n",
    "                break\n",
    "        return next_board\n",
    "\n",
    "    def evaluate_window(window, mark):\n",
    "        # Simple heuristic to evaluate board state\n",
    "        return 0  # Simplified for illustration\n",
    "\n",
    "    def evaluate_board(board, mark):\n",
    "        score = 0\n",
    "        for row in range(config.rows):\n",
    "            for col in range(config.columns-(config.inarow-1)):\n",
    "                window = list(next_grid[row,col:col+config.inarow])\n",
    "                if window.count(piece) == config.inarow:\n",
    "                    return True\n",
    "        # vertical\n",
    "        for row in range(config.rows-(config.inarow-1)):\n",
    "            for col in range(config.columns):\n",
    "                window = list(next_grid[row:row+config.inarow,col])\n",
    "                if window.count(piece) == config.inarow:\n",
    "                    return True\n",
    "        # positive diagonal\n",
    "        for row in range(config.rows-(config.inarow-1)):\n",
    "            for col in range(config.columns-(config.inarow-1)):\n",
    "                window = list(next_grid[range(row, row+config.inarow), range(col, col+config.inarow)])\n",
    "                if window.count(piece) == config.inarow:\n",
    "                    return True\n",
    "        # negative diagonal\n",
    "        for row in range(config.inarow-1, config.rows):\n",
    "            for col in range(config.columns-(config.inarow-1)):\n",
    "                window = list(next_grid[range(row, row-config.inarow, -1), range(col, col+config.inarow)])\n",
    "                if window.count(piece) == config.inarow:\n",
    "                    return True\n",
    "        return False\n",
    "        return score\n",
    "\n",
    "    def minimax(board, depth, alpha, beta, maximizingPlayer, mark):\n",
    "        valid_moves = get_valid_moves(board)\n",
    "        terminal = is_terminal_node(board)\n",
    "        if depth == 0 or terminal:\n",
    "            if terminal:\n",
    "                if winning_move(board, mark):\n",
    "                    return (None, 100000000000000)\n",
    "                elif winning_move(board, mark%2+1):\n",
    "                    return (None, -100000000000000)\n",
    "                else:  # Game is over, no more valid moves\n",
    "                    return (None, 0)\n",
    "            else:  # Depth is zero\n",
    "                return (None, evaluate_board(board, mark))\n",
    "        if maximizingPlayer:\n",
    "            value = float('-inf')\n",
    "            column = random.choice(valid_moves)\n",
    "            for col in valid_moves:\n",
    "                row = next_open_row(board, col)\n",
    "                b_copy = board.copy()\n",
    "                apply_move(b_copy, col, mark, config)\n",
    "                new_score = minimax(b_copy, depth-1, alpha, beta, False, mark)[1]\n",
    "                if new_score > value:\n",
    "                    value = new_score\n",
    "                    column = col\n",
    "                alpha = max(alpha, value)\n",
    "                if alpha >= beta:\n",
    "                    break\n",
    "            return column, value\n",
    "        else:  # Minimizing player\n",
    "            value = float('inf')\n",
    "            column = random.choice(valid_moves)\n",
    "            for col in valid_moves:\n",
    "                row = next_open_row(board, col)\n",
    "                b_copy = board.copy()\n",
    "                apply_move(b_copy, col, mark%2+1, config)\n",
    "                new_score = minimax(b_copy, depth-1, alpha, beta, True, mark)[1]\n",
    "                if new_score < value:\n",
    "                    value = new_score\n",
    "                    column = col\n",
    "                beta = min(beta, value)\n",
    "                if alpha >= beta:\n",
    "                    break\n",
    "            return column, value\n",
    "\n",
    "    # Convert the board to a 2D numpy array\n",
    "    board = np.array(obs.board).reshape(config.rows, config.columns)\n",
    "    column, _ = minimax(board, 3, float('-inf'), float('inf'), True, obs.mark)  # Depth set to 3\n",
    "    return column\n",
    "\n",
    "    import random\n",
    "    valid_moves = [col for col in range(config.columns) if obs.board[col] == 0]\n",
    "    return random.choice(valid_moves)"
   ]
  },
  {
   "cell_type": "code",
   "execution_count": 11,
   "id": "56035ca2",
   "metadata": {
    "execution": {
     "iopub.execute_input": "2024-02-11T13:33:48.762695Z",
     "iopub.status.busy": "2024-02-11T13:33:48.762300Z",
     "iopub.status.idle": "2024-02-11T13:33:48.769779Z",
     "shell.execute_reply": "2024-02-11T13:33:48.769152Z"
    },
    "papermill": {
     "duration": 0.017047,
     "end_time": "2024-02-11T13:33:48.771454",
     "exception": false,
     "start_time": "2024-02-11T13:33:48.754407",
     "status": "completed"
    },
    "tags": []
   },
   "outputs": [
    {
     "data": {
      "application/javascript": [
       "parent.postMessage({\"jupyterEvent\": \"custom.exercise_interaction\", \"data\": {\"outcomeType\": 1, \"valueTowardsCompletion\": 0.2, \"interactionType\": 1, \"questionType\": 2, \"questionId\": \"5_JustSubmitEx3\", \"learnToolsVersion\": \"0.3.4\", \"failureMessage\": \"\", \"exceptionClass\": \"\", \"trace\": \"\"}}, \"*\")"
      ],
      "text/plain": [
       "<IPython.core.display.Javascript object>"
      ]
     },
     "metadata": {},
     "output_type": "display_data"
    },
    {
     "data": {
      "text/markdown": [
       "<span style=\"color:#33cc33\">Thank you for creating an agent!</span>"
      ],
      "text/plain": [
       "Thank you for creating an agent!"
      ]
     },
     "metadata": {},
     "output_type": "display_data"
    }
   ],
   "source": [
    "# Run this code cell to get credit for creating an agent\n",
    "q_5.check()"
   ]
  },
  {
   "cell_type": "code",
   "execution_count": 12,
   "id": "1876a0dd",
   "metadata": {
    "execution": {
     "iopub.execute_input": "2024-02-11T13:33:48.785445Z",
     "iopub.status.busy": "2024-02-11T13:33:48.785076Z",
     "iopub.status.idle": "2024-02-11T13:33:48.797005Z",
     "shell.execute_reply": "2024-02-11T13:33:48.795982Z"
    },
    "papermill": {
     "duration": 0.021298,
     "end_time": "2024-02-11T13:33:48.798860",
     "exception": false,
     "start_time": "2024-02-11T13:33:48.777562",
     "status": "completed"
    },
    "tags": []
   },
   "outputs": [
    {
     "name": "stdout",
     "output_type": "stream",
     "text": [
      "<function my_agent at 0x7cd255e032e0> written to submission.py\n"
     ]
    }
   ],
   "source": [
    "import inspect\n",
    "import os\n",
    "\n",
    "def write_agent_to_file(function, file):\n",
    "    with open(file, \"a\" if os.path.exists(file) else \"w\") as f:\n",
    "        f.write(inspect.getsource(function))\n",
    "        print(function, \"written to\", file)\n",
    "\n",
    "write_agent_to_file(my_agent, \"submission.py\")"
   ]
  },
  {
   "cell_type": "markdown",
   "id": "6348c264",
   "metadata": {
    "papermill": {
     "duration": 0.006022,
     "end_time": "2024-02-11T13:33:48.811248",
     "exception": false,
     "start_time": "2024-02-11T13:33:48.805226",
     "status": "completed"
    },
    "tags": []
   },
   "source": [
    "Then, follow these steps to submit your agent to the competition:\n",
    "1. Begin by clicking on the **Save Version** button in the top right corner of the window.  This will generate a pop-up window.  \n",
    "2. Ensure that the **Save and Run All** option is selected, and then click on the **Save** button.\n",
    "3. This generates a window in the bottom left corner of the notebook.  After it has finished running, click on the number to the right of the **Save Version** button.  This pulls up a list of versions on the right of the screen.  Click on the ellipsis **(...)** to the right of the most recent version, and select **Open in Viewer**.  This brings you into view mode of the same page. You will need to scroll down to get back to these instructions.\n",
    "4. Click on the **Data** tab near the top of the screen.  Then, click on the file you would like to submit, and click on the **Submit** button to submit your results to the leaderboard.\n",
    "\n",
    "You have now successfully submitted to the competition!\n",
    "\n",
    "If you want to keep working to improve your performance, select the **Edit** button in the top right of the screen. Then you can change your code and repeat the process. There's a lot of room to improve, and you will climb up the leaderboard as you work.\n",
    "\n",
    "\n",
    "Go to **\"My Submissions\"** to view your score and episodes being played.\n",
    "\n",
    "# Keep going\n",
    "\n",
    "Move on to learn how to **[use deep reinforcement learning](https://www.kaggle.com/alexisbcook/deep-reinforcement-learning)** to develop an agent without a heuristic!"
   ]
  },
  {
   "cell_type": "markdown",
   "id": "f1d0fc97",
   "metadata": {
    "papermill": {
     "duration": 0.006398,
     "end_time": "2024-02-11T13:33:48.824802",
     "exception": false,
     "start_time": "2024-02-11T13:33:48.818404",
     "status": "completed"
    },
    "tags": []
   },
   "source": [
    "---\n",
    "\n",
    "\n",
    "\n",
    "\n",
    "*Have questions or comments? Visit the [course discussion forum](https://www.kaggle.com/learn/intro-to-game-ai-and-reinforcement-learning/discussion) to chat with other learners.*"
   ]
  }
 ],
 "metadata": {
  "kaggle": {
   "accelerator": "none",
   "dataSources": [
    {
     "databundleVersionId": 899221,
     "sourceId": 17592,
     "sourceType": "competition"
    }
   ],
   "isGpuEnabled": false,
   "isInternetEnabled": false,
   "language": "python",
   "sourceType": "notebook"
  },
  "kernelspec": {
   "display_name": "Python 3",
   "language": "python",
   "name": "python3"
  },
  "language_info": {
   "codemirror_mode": {
    "name": "ipython",
    "version": 3
   },
   "file_extension": ".py",
   "mimetype": "text/x-python",
   "name": "python",
   "nbconvert_exporter": "python",
   "pygments_lexer": "ipython3",
   "version": "3.10.13"
  },
  "papermill": {
   "default_parameters": {},
   "duration": 4.376674,
   "end_time": "2024-02-11T13:33:49.252251",
   "environment_variables": {},
   "exception": null,
   "input_path": "__notebook__.ipynb",
   "output_path": "__notebook__.ipynb",
   "parameters": {},
   "start_time": "2024-02-11T13:33:44.875577",
   "version": "2.5.0"
  }
 },
 "nbformat": 4,
 "nbformat_minor": 5
}
